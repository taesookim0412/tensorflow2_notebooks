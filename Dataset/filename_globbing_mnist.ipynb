{
 "cells": [
  {
   "cell_type": "code",
   "execution_count": null,
   "outputs": [],
   "source": [
    "import modules.tf.load_img as load_img\n",
    "import importlib\n",
    "importlib.reload(load_img)"
   ],
   "metadata": {
    "collapsed": false,
    "pycharm": {
     "name": "#%%\n"
    }
   }
  },
  {
   "cell_type": "code",
   "execution_count": 59,
   "outputs": [],
   "source": [
    "imgs = load_img.load_mnist(batch_size=1, tiny=False, filterFns=True)"
   ],
   "metadata": {
    "collapsed": false,
    "pycharm": {
     "name": "#%%\n"
    }
   }
  },
  {
   "cell_type": "code",
   "execution_count": 60,
   "outputs": [
    {
     "data": {
      "text/plain": "30000"
     },
     "execution_count": 60,
     "metadata": {},
     "output_type": "execute_result"
    }
   ],
   "source": [
    "len(imgs)"
   ],
   "metadata": {
    "collapsed": false,
    "pycharm": {
     "name": "#%%\n"
    }
   }
  },
  {
   "cell_type": "code",
   "execution_count": 61,
   "outputs": [
    {
     "name": "stdout",
     "output_type": "stream",
     "text": [
      "250/30000\n",
      "500/30000\n",
      "750/30000\n",
      "1000/30000\n",
      "1250/30000\n",
      "1500/30000\n",
      "1750/30000\n",
      "2000/30000\n",
      "2250/30000\n",
      "2500/30000\n",
      "2750/30000\n",
      "3000/30000\n",
      "3250/30000\n",
      "3500/30000\n",
      "3750/30000\n",
      "4000/30000\n",
      "4250/30000\n",
      "4500/30000\n",
      "4750/30000\n",
      "5000/30000\n",
      "5250/30000\n",
      "5500/30000\n",
      "5750/30000\n",
      "6000/30000\n",
      "6250/30000\n",
      "6500/30000\n",
      "6750/30000\n",
      "7000/30000\n",
      "7250/30000\n",
      "7500/30000\n",
      "7750/30000\n",
      "8000/30000\n",
      "8250/30000\n",
      "8500/30000\n",
      "8750/30000\n",
      "9000/30000\n",
      "9250/30000\n",
      "9500/30000\n",
      "9750/30000\n",
      "10000/30000\n",
      "10250/30000\n",
      "10500/30000\n",
      "10750/30000\n",
      "11000/30000\n",
      "11250/30000\n",
      "11500/30000\n",
      "11750/30000\n",
      "12000/30000\n",
      "12250/30000\n",
      "12500/30000\n",
      "12750/30000\n",
      "13000/30000\n",
      "13250/30000\n",
      "13500/30000\n",
      "13750/30000\n",
      "14000/30000\n",
      "14250/30000\n",
      "14500/30000\n",
      "14750/30000\n",
      "15000/30000\n",
      "15250/30000\n",
      "15500/30000\n",
      "15750/30000\n",
      "16000/30000\n",
      "16250/30000\n",
      "16500/30000\n",
      "16750/30000\n",
      "17000/30000\n",
      "17250/30000\n",
      "17500/30000\n",
      "17750/30000\n",
      "18000/30000\n",
      "18250/30000\n",
      "18500/30000\n",
      "18750/30000\n",
      "19000/30000\n",
      "19250/30000\n",
      "19500/30000\n",
      "19750/30000\n",
      "20000/30000\n",
      "20250/30000\n",
      "20500/30000\n",
      "20750/30000\n",
      "21000/30000\n",
      "21250/30000\n",
      "21500/30000\n",
      "21750/30000\n",
      "22000/30000\n",
      "22250/30000\n",
      "22500/30000\n",
      "22750/30000\n",
      "23000/30000\n",
      "23250/30000\n",
      "23500/30000\n",
      "23750/30000\n",
      "24000/30000\n",
      "24250/30000\n",
      "24500/30000\n",
      "24750/30000\n",
      "25000/30000\n",
      "25250/30000\n",
      "25500/30000\n",
      "25750/30000\n",
      "26000/30000\n",
      "26250/30000\n",
      "26500/30000\n",
      "26750/30000\n",
      "27000/30000\n",
      "27250/30000\n",
      "27500/30000\n",
      "27750/30000\n",
      "28000/30000\n",
      "28250/30000\n",
      "28500/30000\n",
      "28750/30000\n",
      "29000/30000\n",
      "29250/30000\n",
      "29500/30000\n",
      "29750/30000\n",
      "30000/30000\n"
     ]
    }
   ],
   "source": [
    "for i, (img, img_fn) in enumerate(imgs):\n",
    "    if (i+1) % 250 == 0:\n",
    "        print(f\"{i+1}/30000\")"
   ],
   "metadata": {
    "collapsed": false,
    "pycharm": {
     "name": "#%%\n"
    }
   }
  },
  {
   "cell_type": "code",
   "execution_count": null,
   "outputs": [],
   "source": [],
   "metadata": {
    "collapsed": false,
    "pycharm": {
     "name": "#%%\n"
    }
   }
  }
 ],
 "metadata": {
  "kernelspec": {
   "name": "pycharm-452f81be",
   "language": "python",
   "display_name": "PyCharm (Fashion)"
  },
  "language_info": {
   "codemirror_mode": {
    "name": "ipython",
    "version": 2
   },
   "file_extension": ".py",
   "mimetype": "text/x-python",
   "name": "python",
   "nbconvert_exporter": "python",
   "pygments_lexer": "ipython2",
   "version": "2.7.6"
  }
 },
 "nbformat": 4,
 "nbformat_minor": 0
}