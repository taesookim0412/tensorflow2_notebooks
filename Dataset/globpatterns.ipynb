{
 "cells": [
  {
   "cell_type": "code",
   "execution_count": 1,
   "metadata": {
    "collapsed": true
   },
   "outputs": [],
   "source": [
    "import os\n",
    "import glob\n",
    "\n",
    "import tensorflow as tf"
   ]
  },
  {
   "cell_type": "code",
   "execution_count": 2,
   "outputs": [],
   "source": [
    "train_dir = os.path.join(os.path.dirname(os.getcwd()), \"sharedfiles\", \"train\")\n",
    "glob_pattern = f'{train_dir}/*/nested_label1/*.jpg'\n",
    "x = glob.glob(glob_pattern)"
   ],
   "metadata": {
    "collapsed": false,
    "pycharm": {
     "name": "#%%\n"
    }
   }
  },
  {
   "cell_type": "code",
   "execution_count": 3,
   "outputs": [
    {
     "data": {
      "text/plain": "3"
     },
     "execution_count": 3,
     "metadata": {},
     "output_type": "execute_result"
    }
   ],
   "source": [
    "len(x)"
   ],
   "metadata": {
    "collapsed": false,
    "pycharm": {
     "name": "#%%\n"
    }
   }
  },
  {
   "cell_type": "code",
   "execution_count": 4,
   "outputs": [],
   "source": [
    "ds = tf.data.Dataset.list_files(glob_pattern)"
   ],
   "metadata": {
    "collapsed": false,
    "pycharm": {
     "name": "#%%\n"
    }
   }
  },
  {
   "cell_type": "code",
   "execution_count": 5,
   "outputs": [
    {
     "data": {
      "text/plain": "3"
     },
     "execution_count": 5,
     "metadata": {},
     "output_type": "execute_result"
    }
   ],
   "source": [
    "len(ds)"
   ],
   "metadata": {
    "collapsed": false,
    "pycharm": {
     "name": "#%%\n"
    }
   }
  },
  {
   "cell_type": "code",
   "execution_count": 6,
   "outputs": [
    {
     "name": "stdout",
     "output_type": "stream",
     "text": [
      "source3\n",
      "nested_label1\n",
      "source2\n",
      "nested_label1\n",
      "source1\n",
      "nested_label1\n"
     ]
    }
   ],
   "source": [
    "for img_fp in iter(ds):\n",
    "    print(tf.strings.split(img_fp, \"\\\\\")[-3].numpy().decode('ascii'))\n",
    "    print(tf.strings.split(img_fp, \"\\\\\")[-2].numpy().decode('ascii'))"
   ],
   "metadata": {
    "collapsed": false,
    "pycharm": {
     "name": "#%%\n"
    }
   }
  },
  {
   "cell_type": "code",
   "execution_count": 8,
   "outputs": [],
   "source": [
    "glob_pattern = f'{os.path.dirname(train_dir)}/*/nested_label1/*.jpg'"
   ],
   "metadata": {
    "collapsed": false,
    "pycharm": {
     "name": "#%%\n"
    }
   }
  },
  {
   "cell_type": "code",
   "execution_count": 10,
   "outputs": [
    {
     "name": "stdout",
     "output_type": "stream",
     "text": [
      "train\n",
      "source2\n",
      "nested_label1\n",
      "train\n",
      "source3\n",
      "nested_label1\n",
      "test\n",
      "source3\n",
      "nested_label1\n",
      "test\n",
      "source2\n",
      "nested_label1\n",
      "train\n",
      "source1\n",
      "nested_label1\n",
      "test\n",
      "source1\n",
      "nested_label1\n"
     ]
    }
   ],
   "source": [
    "ds = tf.data.Dataset.list_files(glob_pattern)\n",
    "len(ds)\n",
    "for img_fp in iter(ds):\n",
    "    print(tf.strings.split(img_fp, \"\\\\\")[-4].numpy().decode('ascii'))\n",
    "    print(tf.strings.split(img_fp, \"\\\\\")[-3].numpy().decode('ascii'))\n",
    "    print(tf.strings.split(img_fp, \"\\\\\")[-2].numpy().decode('ascii'))"
   ],
   "metadata": {
    "collapsed": false,
    "pycharm": {
     "name": "#%%\n"
    }
   }
  },
  {
   "cell_type": "code",
   "execution_count": null,
   "outputs": [],
   "source": [],
   "metadata": {
    "collapsed": false,
    "pycharm": {
     "name": "#%%\n"
    }
   }
  }
 ],
 "metadata": {
  "kernelspec": {
   "display_name": "Python 3",
   "language": "python",
   "name": "python3"
  },
  "language_info": {
   "codemirror_mode": {
    "name": "ipython",
    "version": 2
   },
   "file_extension": ".py",
   "mimetype": "text/x-python",
   "name": "python",
   "nbconvert_exporter": "python",
   "pygments_lexer": "ipython2",
   "version": "2.7.6"
  }
 },
 "nbformat": 4,
 "nbformat_minor": 0
}