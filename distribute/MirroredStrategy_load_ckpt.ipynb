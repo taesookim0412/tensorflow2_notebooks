{
 "cells": [
  {
   "cell_type": "code",
   "execution_count": 1,
   "metadata": {
    "collapsed": true
   },
   "outputs": [
    {
     "data": {
      "text/plain": "<module 'modules.tf.load_img' from '/home/taesookim/Documents/ML/tensorflow2_notebooks/modules/tf/load_img.py'>"
     },
     "execution_count": 1,
     "metadata": {},
     "output_type": "execute_result"
    }
   ],
   "source": [
    "import tensorflow as tf\n",
    "import modules.tf.load_img as load_img\n",
    "import importlib\n",
    "import matplotlib.pyplot as plt\n",
    "importlib.reload(load_img)\n"
   ]
  },
  {
   "cell_type": "code",
   "execution_count": 2,
   "outputs": [],
   "source": [
    "import os\n",
    "from tensorflow.keras import mixed_precision"
   ],
   "metadata": {
    "collapsed": false,
    "pycharm": {
     "name": "#%%\n"
    }
   }
  },
  {
   "cell_type": "code",
   "execution_count": 3,
   "outputs": [
    {
     "name": "stdout",
     "output_type": "stream",
     "text": [
      "INFO:tensorflow:Mixed precision compatibility check (mixed_float16): OK\n",
      "Your GPUs will likely run quickly with dtype policy mixed_float16 as they all have compute capability of at least 7.0\n"
     ]
    }
   ],
   "source": [
    "os.environ['TF_XLA_FLAGS']=\"--tf_xla_enable_xla_devices\"\n",
    "policy = mixed_precision.Policy('mixed_float16')\n",
    "mixed_precision.set_global_policy(policy)"
   ],
   "metadata": {
    "collapsed": false,
    "pycharm": {
     "name": "#%%\n"
    }
   }
  },
  {
   "cell_type": "code",
   "execution_count": 4,
   "outputs": [
    {
     "data": {
      "text/plain": "[PhysicalDevice(name='/physical_device:CPU:0', device_type='CPU'),\n PhysicalDevice(name='/physical_device:XLA_CPU:0', device_type='XLA_CPU'),\n PhysicalDevice(name='/physical_device:XLA_GPU:0', device_type='XLA_GPU'),\n PhysicalDevice(name='/physical_device:XLA_GPU:1', device_type='XLA_GPU'),\n PhysicalDevice(name='/physical_device:XLA_GPU:2', device_type='XLA_GPU'),\n PhysicalDevice(name='/physical_device:GPU:0', device_type='GPU'),\n PhysicalDevice(name='/physical_device:GPU:1', device_type='GPU'),\n PhysicalDevice(name='/physical_device:GPU:2', device_type='GPU')]"
     },
     "execution_count": 4,
     "metadata": {},
     "output_type": "execute_result"
    }
   ],
   "source": [
    "tf.config.experimental.list_physical_devices()\n"
   ],
   "metadata": {
    "collapsed": false,
    "pycharm": {
     "name": "#%%\n"
    }
   }
  },
  {
   "cell_type": "code",
   "execution_count": 5,
   "outputs": [
    {
     "name": "stdout",
     "output_type": "stream",
     "text": [
      "INFO:tensorflow:Using MirroredStrategy with devices ('/job:localhost/replica:0/task:0/device:GPU:0', '/job:localhost/replica:0/task:0/device:GPU:1', '/job:localhost/replica:0/task:0/device:GPU:2')\n"
     ]
    }
   ],
   "source": [
    "strategy = tf.distribute.MirroredStrategy()"
   ],
   "metadata": {
    "collapsed": false,
    "pycharm": {
     "name": "#%%\n"
    }
   }
  },
  {
   "cell_type": "code",
   "execution_count": 6,
   "outputs": [],
   "source": [
    "def seq(lyrs):\n",
    "  return [tf.keras.models.Sequential(lyr) for lyr in lyrs]\n",
    "\n",
    "#Note: This design can be improved (i.e Conv->BN->Activation).\n",
    "def model_autoencoder():\n",
    "  inp = tf.keras.layers.Input([16, 16, 1])\n",
    "\n",
    "  layers = seq([tf.keras.layers.Conv2D(16, kernel_size=(3,3), strides=(2,2), padding=\"same\", activation=tf.nn.leaky_relu),#16\n",
    "                                tf.keras.layers.Conv2D(32, kernel_size=(3,3), strides=(2,2), padding=\"same\", activation=tf.nn.leaky_relu),#8\n",
    "                                tf.keras.layers.Conv2D(64, kernel_size=(3,3), strides=(2,2), padding=\"same\", activation=tf.nn.leaky_relu),#4\n",
    "                                tf.keras.layers.Conv2D(128, kernel_size=(3,3), strides=(2,2), padding=\"same\", activation=tf.nn.leaky_relu),#2\n",
    "                                tf.keras.layers.Conv2D(256, kernel_size=(3,3), strides=(2,2), padding=\"same\", activation=tf.nn.leaky_relu),#1\n",
    "                                tf.keras.layers.Conv2D(512, kernel_size=(3,3), strides=(2,2), padding=\"same\", activation=tf.nn.leaky_relu),#1\n",
    "                                tf.keras.layers.Conv2D(256, kernel_size=(3,3), strides=(2,2), padding=\"same\", activation=tf.nn.leaky_relu),#1\n",
    "                                tf.keras.layers.Conv2DTranspose(128, kernel_size=(3,3), strides=2, padding=\"same\", activation=tf.nn.leaky_relu),#2\n",
    "                                tf.keras.layers.Conv2DTranspose(64, kernel_size=(3,3), strides=2, padding=\"same\", activation=tf.nn.leaky_relu),#4\n",
    "                                tf.keras.layers.Conv2DTranspose(32, kernel_size=(3,3), strides=2, padding=\"same\", activation=tf.nn.leaky_relu),#8\n",
    "                                tf.keras.layers.Conv2DTranspose(1, kernel_size=(3,3), strides=2, padding=\"same\", activation=tf.nn.tanh, dtype=tf.float32 ) #16\n",
    "          ])\n",
    "  prev = inp\n",
    "  for layer in layers:\n",
    "      prev = layer(prev)\n",
    "\n",
    "  #\n",
    "  # prev = inp\n",
    "  # skips = []\n",
    "  # for layer in layers[:6]:\n",
    "  #   prev = layer(prev)\n",
    "  #   skips.append(prev)\n",
    "  #\n",
    "  # skips = skips[:5]\n",
    "  # for skip, layer in zip(reversed(skips), layers[6:]):\n",
    "  #   prev = tf.keras.layers.concatenate([skip, prev])\n",
    "  #   prev = layer(prev)\n",
    "\n",
    "  return tf.keras.Model(inputs=inp, outputs=prev)"
   ],
   "metadata": {
    "collapsed": false,
    "pycharm": {
     "name": "#%%\n"
    }
   }
  },
  {
   "cell_type": "code",
   "execution_count": 7,
   "outputs": [],
   "source": [
    "BATCH_SIZE = 32\n",
    "GLOBAL_BATCH_SIZE = 32 * strategy.num_replicas_in_sync\n"
   ],
   "metadata": {
    "collapsed": false,
    "pycharm": {
     "name": "#%%\n"
    }
   }
  },
  {
   "cell_type": "code",
   "execution_count": 8,
   "outputs": [],
   "source": [
    "checkpoint_dir = \"./training_checkpoints\"\n",
    "checkpoint_prefix = os.path.join(checkpoint_dir, \"ckpt\")\n",
    "\n",
    "with strategy.scope():\n",
    "    model = model_autoencoder()\n",
    "    loss_object = tf.keras.losses.MeanAbsoluteError(reduction=tf.keras.losses.Reduction.NONE)\n",
    "    def compute_loss(real, pred):\n",
    "        per_example_loss = loss_object(real, pred)\n",
    "        return tf.nn.compute_average_loss(per_example_loss, global_batch_size=GLOBAL_BATCH_SIZE)\n",
    "    optimizer = tf.keras.optimizers.Adam()\n",
    "    optimizer = mixed_precision.LossScaleOptimizer(optimizer)\n",
    "    checkpoint = tf.train.Checkpoint(model=model, optimizer=optimizer)\n",
    "    checkpoint.restore(tf.train.latest_checkpoint(checkpoint_dir))"
   ],
   "metadata": {
    "collapsed": false,
    "pycharm": {
     "name": "#%%\n"
    }
   }
  },
  {
   "cell_type": "code",
   "execution_count": 9,
   "outputs": [],
   "source": [
    "# for data in train_imgs:\n",
    "#     img, img_fn = data\n",
    "#     print(model(img[0]))\n",
    "#     break"
   ],
   "metadata": {
    "collapsed": false,
    "pycharm": {
     "name": "#%%\n"
    }
   }
  },
  {
   "cell_type": "code",
   "execution_count": 10,
   "outputs": [
    {
     "name": "stdout",
     "output_type": "stream",
     "text": [
      "Model: \"model\"\n",
      "_________________________________________________________________\n",
      "Layer (type)                 Output Shape              Param #   \n",
      "=================================================================\n",
      "input_1 (InputLayer)         [(None, 16, 16, 1)]       0         \n",
      "_________________________________________________________________\n",
      "sequential (Sequential)      (None, 8, 8, 16)          160       \n",
      "_________________________________________________________________\n",
      "sequential_1 (Sequential)    (None, 4, 4, 32)          4640      \n",
      "_________________________________________________________________\n",
      "sequential_2 (Sequential)    (None, 2, 2, 64)          18496     \n",
      "_________________________________________________________________\n",
      "sequential_3 (Sequential)    (None, 1, 1, 128)         73856     \n",
      "_________________________________________________________________\n",
      "sequential_4 (Sequential)    (None, 1, 1, 256)         295168    \n",
      "_________________________________________________________________\n",
      "sequential_5 (Sequential)    (None, 1, 1, 512)         1180160   \n",
      "_________________________________________________________________\n",
      "sequential_6 (Sequential)    (None, 1, 1, 256)         1179904   \n",
      "_________________________________________________________________\n",
      "sequential_7 (Sequential)    (None, 2, 2, 128)         295040    \n",
      "_________________________________________________________________\n",
      "sequential_8 (Sequential)    (None, 4, 4, 64)          73792     \n",
      "_________________________________________________________________\n",
      "sequential_9 (Sequential)    (None, 8, 8, 32)          18464     \n",
      "_________________________________________________________________\n",
      "sequential_10 (Sequential)   (None, 16, 16, 1)         289       \n",
      "=================================================================\n",
      "Total params: 3,139,969\n",
      "Trainable params: 3,139,969\n",
      "Non-trainable params: 0\n",
      "_________________________________________________________________\n"
     ]
    }
   ],
   "source": [
    "with strategy.scope():\n",
    "    model.summary()"
   ],
   "metadata": {
    "collapsed": false,
    "pycharm": {
     "name": "#%%\n"
    }
   }
  },
  {
   "cell_type": "code",
   "execution_count": 11,
   "outputs": [],
   "source": [
    "train_imgs = load_img.load_mnist(GLOBAL_BATCH_SIZE, tiny=False)\n",
    "train_imgs = strategy.experimental_distribute_dataset(train_imgs)"
   ],
   "metadata": {
    "collapsed": false,
    "pycharm": {
     "name": "#%%\n"
    }
   }
  },
  {
   "cell_type": "code",
   "execution_count": 12,
   "outputs": [],
   "source": [
    "@tf.function\n",
    "def train_step(inputs):\n",
    "    img, img_fn = inputs\n",
    "    with tf.GradientTape() as tape:\n",
    "        pred = model(img * 0.5, training=True)\n",
    "        loss = compute_loss(img, pred)\n",
    "        scaled_loss = optimizer.get_scaled_loss(loss)\n",
    "    scaled_gradients = tape.gradient(scaled_loss, model.trainable_variables)\n",
    "    gradients = optimizer.get_unscaled_gradients(scaled_gradients)\n",
    "    optimizer.apply_gradients(zip(gradients, model.trainable_variables))\n",
    "    return loss\n",
    "\n",
    "@tf.function\n",
    "def distributed_train_step(inputs):\n",
    "    per_replica_losses = strategy.run(train_step, args=(inputs, ))\n",
    "    return strategy.reduce(tf.distribute.ReduceOp.SUM, per_replica_losses,\n",
    "                           axis=None) / GLOBAL_BATCH_SIZE"
   ],
   "metadata": {
    "collapsed": false,
    "pycharm": {
     "name": "#%%\n"
    }
   }
  },
  {
   "cell_type": "code",
   "execution_count": 13,
   "outputs": [
    {
     "name": "stdout",
     "output_type": "stream",
     "text": [
      "INFO:tensorflow:Reduce to /job:localhost/replica:0/task:0/device:CPU:0 then broadcast to ('/job:localhost/replica:0/task:0/device:CPU:0',).\n",
      "INFO:tensorflow:batch_all_reduce: 22 all-reduces with algorithm = nccl, num_packs = 1\n",
      "INFO:tensorflow:Reduce to /job:localhost/replica:0/task:0/device:CPU:0 then broadcast to ('/job:localhost/replica:0/task:0/device:CPU:0',).\n",
      "INFO:tensorflow:batch_all_reduce: 22 all-reduces with algorithm = nccl, num_packs = 1\n",
      "INFO:tensorflow:Reduce to /job:localhost/replica:0/task:0/device:CPU:0 then broadcast to ('/job:localhost/replica:0/task:0/device:CPU:0',).\n",
      "0.115797177\n"
     ]
    },
    {
     "ename": "ZeroDivisionError",
     "evalue": "division by zero",
     "output_type": "error",
     "traceback": [
      "\u001B[0;31m---------------------------------------------------------------------------\u001B[0m",
      "\u001B[0;31mZeroDivisionError\u001B[0m                         Traceback (most recent call last)",
      "\u001B[0;32m<ipython-input-13-4456838e5c5b>\u001B[0m in \u001B[0;36m<module>\u001B[0;34m\u001B[0m\n\u001B[1;32m      4\u001B[0m         \u001B[0mloss\u001B[0m \u001B[0;34m=\u001B[0m \u001B[0mdistributed_train_step\u001B[0m\u001B[0;34m(\u001B[0m\u001B[0mdata\u001B[0m\u001B[0;34m)\u001B[0m\u001B[0;34m\u001B[0m\u001B[0;34m\u001B[0m\u001B[0m\n\u001B[1;32m      5\u001B[0m         \u001B[0mtf\u001B[0m\u001B[0;34m.\u001B[0m\u001B[0mprint\u001B[0m\u001B[0;34m(\u001B[0m\u001B[0mloss\u001B[0m\u001B[0;34m)\u001B[0m\u001B[0;34m\u001B[0m\u001B[0;34m\u001B[0m\u001B[0m\n\u001B[0;32m----> 6\u001B[0;31m         \u001B[0;36m5\u001B[0m\u001B[0;34m/\u001B[0m\u001B[0;36m0\u001B[0m\u001B[0;34m\u001B[0m\u001B[0;34m\u001B[0m\u001B[0m\n\u001B[0m\u001B[1;32m      7\u001B[0m         \u001B[0;32mif\u001B[0m \u001B[0mtf\u001B[0m\u001B[0;34m.\u001B[0m\u001B[0mmath\u001B[0m\u001B[0;34m.\u001B[0m\u001B[0mless\u001B[0m\u001B[0;34m(\u001B[0m\u001B[0mloss\u001B[0m\u001B[0;34m,\u001B[0m \u001B[0;36m.6\u001B[0m\u001B[0;34m)\u001B[0m\u001B[0;34m:\u001B[0m\u001B[0;34m\u001B[0m\u001B[0;34m\u001B[0m\u001B[0m\n\u001B[1;32m      8\u001B[0m             \u001B[0mcheckpoint\u001B[0m\u001B[0;34m.\u001B[0m\u001B[0msave\u001B[0m\u001B[0;34m(\u001B[0m\u001B[0mfile_prefix\u001B[0m\u001B[0;34m=\u001B[0m\u001B[0mcheckpoint_prefix\u001B[0m\u001B[0;34m)\u001B[0m\u001B[0;34m\u001B[0m\u001B[0;34m\u001B[0m\u001B[0m\n",
      "\u001B[0;31mZeroDivisionError\u001B[0m: division by zero"
     ]
    }
   ],
   "source": [
    "loss = None\n",
    "for epoch in range(50):\n",
    "    for data in train_imgs:\n",
    "        loss = distributed_train_step(data)\n",
    "        tf.print(loss)\n",
    "        5/0\n",
    "        if tf.math.less(loss, .6):\n",
    "            checkpoint.save(file_prefix=checkpoint_prefix)\n",
    "            5/0\n"
   ],
   "metadata": {
    "collapsed": false,
    "pycharm": {
     "name": "#%%\n"
    }
   }
  },
  {
   "cell_type": "code",
   "execution_count": null,
   "outputs": [],
   "source": [
    "train_imgs = load_img.load_mnist(GLOBAL_BATCH_SIZE, tiny=False)"
   ],
   "metadata": {
    "collapsed": false,
    "pycharm": {
     "name": "#%%\n"
    }
   }
  },
  {
   "cell_type": "code",
   "execution_count": null,
   "outputs": [],
   "source": [
    "for data in train_imgs:\n",
    "    img, img_fn = data\n",
    "    img = img[0]\n",
    "    print(tf.reduce_min(img), tf.reduce_max(img))\n",
    "    5/0"
   ],
   "metadata": {
    "collapsed": false,
    "pycharm": {
     "name": "#%%\n"
    }
   }
  },
  {
   "cell_type": "code",
   "execution_count": null,
   "outputs": [],
   "source": [],
   "metadata": {
    "collapsed": false,
    "pycharm": {
     "name": "#%%\n"
    }
   }
  }
 ],
 "metadata": {
  "kernelspec": {
   "display_name": "Python 3",
   "language": "python",
   "name": "python3"
  },
  "language_info": {
   "codemirror_mode": {
    "name": "ipython",
    "version": 2
   },
   "file_extension": ".py",
   "mimetype": "text/x-python",
   "name": "python",
   "nbconvert_exporter": "python",
   "pygments_lexer": "ipython2",
   "version": "2.7.6"
  }
 },
 "nbformat": 4,
 "nbformat_minor": 0
}