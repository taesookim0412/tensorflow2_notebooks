{
 "cells": [
  {
   "cell_type": "code",
   "execution_count": 20,
   "metadata": {
    "collapsed": true
   },
   "outputs": [
    {
     "data": {
      "text/plain": "<module 'Multiprocessing.multiprocessing_n_concurrent_workers' from 'C:\\\\Users\\\\terry\\\\source\\\\repos\\\\tensorflow2_notebooks\\\\Multiprocessing\\\\multiprocessing_n_concurrent_workers.py'>"
     },
     "execution_count": 20,
     "metadata": {},
     "output_type": "execute_result"
    }
   ],
   "source": [
    "import Multiprocessing.multiprocessing_n_concurrent_workers as mpnc\n",
    "import sys\n",
    "import importlib\n",
    "importlib.reload(mpnc)"
   ]
  },
  {
   "cell_type": "code",
   "execution_count": 15,
   "outputs": [
    {
     "name": "stdout",
     "output_type": "stream",
     "text": [
      "10.115923166275024\n",
      "20.11561918258667\n",
      "Done! 60.130635261535645s passed\n"
     ]
    }
   ],
   "source": [
    "mpnc.createJobs()"
   ],
   "metadata": {
    "collapsed": false,
    "pycharm": {
     "name": "#%%\n"
    }
   }
  },
  {
   "cell_type": "markdown",
   "source": [
    "^ delays = [10, 20, 30, 40]\n",
    "\n",
    "I waited  10 seconds\n",
    "\n",
    "I waited  20 seconds\n",
    "\n",
    "I waited 30 seconds\n",
    "\n",
    "I waited 40 seconds"
   ],
   "metadata": {
    "collapsed": false,
    "pycharm": {
     "name": "#%% md\n"
    }
   }
  },
  {
   "cell_type": "code",
   "execution_count": 17,
   "outputs": [
    {
     "name": "stdout",
     "output_type": "stream",
     "text": [
      "10.118465185165405\n",
      "30.12329602241516\n",
      "Done! 50.128148317337036s passed\n"
     ]
    }
   ],
   "source": [
    "mpnc.createJobs2()"
   ],
   "metadata": {
    "collapsed": false,
    "pycharm": {
     "name": "#%%\n"
    }
   }
  },
  {
   "cell_type": "markdown",
   "source": [
    "^\n",
    "delays = [10, 30, 10, 20]\n",
    "\n",
    "I waited  10 seconds\n",
    "\n",
    "I waited 10 seconds\n",
    "\n",
    "I waited  30 seconds\n",
    "\n",
    "I waited 20 seconds"
   ],
   "metadata": {
    "collapsed": false,
    "pycharm": {
     "name": "#%% md\n"
    }
   }
  },
  {
   "cell_type": "code",
   "execution_count": 19,
   "outputs": [
    {
     "name": "stdout",
     "output_type": "stream",
     "text": [
      "9.124472379684448\n",
      "10.122266054153442\n",
      "Done! 15.135546684265137s passed\n"
     ]
    }
   ],
   "source": [
    "mpnc.createJobs3()"
   ],
   "metadata": {
    "collapsed": false,
    "pycharm": {
     "name": "#%%\n"
    }
   }
  },
  {
   "cell_type": "markdown",
   "source": [
    "delays = [10, 9, 20, 5]\n",
    "\n",
    "I waited  9 seconds\n",
    "\n",
    "I waited  10 seconds\n",
    "\n",
    "I waited 5 seconds\n",
    "\n",
    "\n",
    "\n",
    "This is why I do this\n",
    "\n",
    "\n",
    "\n"
   ],
   "metadata": {
    "collapsed": false,
    "pycharm": {
     "name": "#%% md\n"
    }
   }
  },
  {
   "cell_type": "code",
   "execution_count": 21,
   "outputs": [
    {
     "name": "stdout",
     "output_type": "stream",
     "text": [
      "9.13158655166626\n",
      "10.129191398620605\n",
      "Done! 29.149101972579956s passed\n"
     ]
    }
   ],
   "source": [
    "mpnc.createJobs4()"
   ],
   "metadata": {
    "collapsed": false,
    "pycharm": {
     "name": "#%%\n"
    }
   }
  },
  {
   "cell_type": "markdown",
   "source": [
    "delays = [10, 9, 20, 5]\n",
    "\n",
    "I waited 5 seconds\n",
    "\n",
    "I waited  9 seconds\n",
    "\n",
    "I waited  10 seconds\n",
    "\n",
    "I waited 5 seconds\n",
    "\n",
    "I waited 20 seconds\n",
    "\n",
    "Bad Flush\n",
    "\n"
   ],
   "metadata": {
    "collapsed": false,
    "pycharm": {
     "name": "#%% md\n"
    }
   }
  },
  {
   "cell_type": "code",
   "execution_count": 22,
   "outputs": [
    {
     "name": "stdout",
     "output_type": "stream",
     "text": [
      "9.130173444747925\n",
      "10.128990411758423\n",
      "Done! 29.147026777267456s passed\n"
     ]
    }
   ],
   "source": [
    "mpnc.createJobs4()"
   ],
   "metadata": {
    "collapsed": false,
    "pycharm": {
     "name": "#%%\n"
    }
   }
  },
  {
   "cell_type": "markdown",
   "source": [
    "delays = [10, 9, 20, 5]\n",
    "\n",
    "I waited  9 seconds\n",
    "\n",
    "I waited  10 seconds\n",
    "\n",
    "I waited 5 seconds\n",
    "\n",
    "I waited 20 seconds"
   ],
   "metadata": {
    "collapsed": false,
    "pycharm": {
     "name": "#%% md\n"
    }
   }
  },
  {
   "cell_type": "code",
   "execution_count": null,
   "outputs": [],
   "source": [
    "#Good Version:\n",
    "def createJobs4():\n",
    "    st = time()\n",
    "\n",
    "    delays = [10, 9, 20, 5]\n",
    "    func = partial(workerFunction, \"I waited \")\n",
    "    with multiprocessing.Pool(4) as p:\n",
    "        start = 2\n",
    "        createdJobs = []\n",
    "        for i, _ in enumerate(p.imap_unordered(func, delays[:start])):\n",
    "            createdJobs.append(p.apply_async(func=workerFunction, args=(\"I waited\", delays[start+i])))\n",
    "            print(time() - st)\n",
    "        for job in createdJobs:\n",
    "            while not job.ready():\n",
    "                job.wait(1)\n",
    "        print(f\"Done! {time() - st}s passed\")\n",
    "\n",
    "\n",
    "\n"
   ],
   "metadata": {
    "collapsed": false,
    "pycharm": {
     "name": "#%%\n"
    }
   }
  }
 ],
 "metadata": {
  "kernelspec": {
   "display_name": "Python 3",
   "language": "python",
   "name": "python3"
  },
  "language_info": {
   "codemirror_mode": {
    "name": "ipython",
    "version": 2
   },
   "file_extension": ".py",
   "mimetype": "text/x-python",
   "name": "python",
   "nbconvert_exporter": "python",
   "pygments_lexer": "ipython2",
   "version": "2.7.6"
  }
 },
 "nbformat": 4,
 "nbformat_minor": 0
}