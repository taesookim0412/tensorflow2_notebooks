{
 "cells": [
  {
   "cell_type": "code",
   "execution_count": 1,
   "metadata": {
    "collapsed": true
   },
   "outputs": [],
   "source": [
    "import tensorflow as tf"
   ]
  },
  {
   "cell_type": "code",
   "execution_count": 2,
   "outputs": [],
   "source": [],
   "metadata": {
    "collapsed": false,
    "pycharm": {
     "name": "#%%\n"
    }
   }
  },
  {
   "cell_type": "code",
   "execution_count": 5,
   "outputs": [
    {
     "name": "stdout",
     "output_type": "stream",
     "text": [
      "n: -1.0\n",
      " Loss v Ones: 1.3132617473602295, Loss v Zeros: 0.3132616877555847\n",
      "n: -0.9\n",
      " Loss v Ones: 1.2411538362503052, Loss v Zeros: 0.3411538898944855\n",
      "n: -0.8\n",
      " Loss v Ones: 1.1711006164550781, Loss v Zeros: 0.37110066413879395\n",
      "n: -0.7\n",
      " Loss v Ones: 1.103186011314392, Loss v Zeros: 0.40318602323532104\n",
      "n: -0.6\n",
      " Loss v Ones: 1.0374879837036133, Loss v Zeros: 0.437487930059433\n",
      "n: -0.5\n",
      " Loss v Ones: 0.9740769863128662, Loss v Zeros: 0.4740769863128662\n",
      "n: -0.3999999999999999\n",
      " Loss v Ones: 0.9130152463912964, Loss v Zeros: 0.5130152702331543\n",
      "n: -0.29999999999999993\n",
      " Loss v Ones: 0.8543552160263062, Loss v Zeros: 0.5543552041053772\n",
      "n: -0.19999999999999996\n",
      " Loss v Ones: 0.7981388568878174, Loss v Zeros: 0.5981388688087463\n",
      "n: -0.09999999999999998\n",
      " Loss v Ones: 0.7443966865539551, Loss v Zeros: 0.6443966627120972\n",
      "n: 0.0\n",
      " Loss v Ones: 0.6931471824645996, Loss v Zeros: 0.6931471824645996\n",
      "n: 0.10000000000000009\n",
      " Loss v Ones: 0.6443966627120972, Loss v Zeros: 0.7443966865539551\n",
      "n: 0.20000000000000018\n",
      " Loss v Ones: 0.5981388688087463, Loss v Zeros: 0.7981388568878174\n",
      "n: 0.30000000000000004\n",
      " Loss v Ones: 0.5543552041053772, Loss v Zeros: 0.8543552160263062\n",
      "n: 0.40000000000000013\n",
      " Loss v Ones: 0.5130152702331543, Loss v Zeros: 0.9130152463912964\n",
      "n: 0.5\n",
      " Loss v Ones: 0.4740769863128662, Loss v Zeros: 0.9740769863128662\n",
      "n: 0.6000000000000001\n",
      " Loss v Ones: 0.437487930059433, Loss v Zeros: 1.0374879837036133\n",
      "n: 0.7000000000000002\n",
      " Loss v Ones: 0.40318602323532104, Loss v Zeros: 1.103186011314392\n",
      "n: 0.8\n",
      " Loss v Ones: 0.37110066413879395, Loss v Zeros: 1.1711006164550781\n",
      "n: 0.9000000000000001\n",
      " Loss v Ones: 0.3411538898944855, Loss v Zeros: 1.2411538362503052\n",
      "n: 1.0\n",
      " Loss v Ones: 0.3132616877555847, Loss v Zeros: 1.3132617473602295\n"
     ]
    }
   ],
   "source": [
    "for i in range(21):\n",
    "    loss_object = tf.losses.BinaryCrossentropy(from_logits=True)\n",
    "    n = i*.1 - 1\n",
    "    n_a = [n for _ in range(8)]\n",
    "    n_ones_to_a = loss_object(tf.ones_like(n_a), n_a)\n",
    "    n_zeros_to_a = loss_object(tf.zeros_like(n_a), n_a)\n",
    "    print(f\"n: {n}\\n Loss v Ones: {n_ones_to_a}, Loss v Zeros: {n_zeros_to_a}\")"
   ],
   "metadata": {
    "collapsed": false,
    "pycharm": {
     "name": "#%%\n"
    }
   }
  },
  {
   "cell_type": "code",
   "execution_count": 6,
   "outputs": [
    {
     "name": "stdout",
     "output_type": "stream",
     "text": [
      "n: -1.0\n",
      " Loss v Ones: 1.3132617473602295, Loss v Zeros: 0.3132616877555847\n",
      "n: -0.9\n",
      " Loss v Ones: 1.2411538362503052, Loss v Zeros: 0.3411538898944855\n",
      "n: -0.8\n",
      " Loss v Ones: 1.1711006164550781, Loss v Zeros: 0.37110066413879395\n",
      "n: -0.7\n",
      " Loss v Ones: 1.103186011314392, Loss v Zeros: 0.40318602323532104\n",
      "n: -0.6\n",
      " Loss v Ones: 1.0374879837036133, Loss v Zeros: 0.437487930059433\n",
      "n: -0.5\n",
      " Loss v Ones: 0.9740769863128662, Loss v Zeros: 0.4740769863128662\n",
      "n: -0.3999999999999999\n",
      " Loss v Ones: 0.9130152463912964, Loss v Zeros: 0.5130152702331543\n",
      "n: -0.29999999999999993\n",
      " Loss v Ones: 0.8543552160263062, Loss v Zeros: 0.5543552041053772\n",
      "n: -0.19999999999999996\n",
      " Loss v Ones: 0.7981388568878174, Loss v Zeros: 0.5981388688087463\n",
      "n: -0.09999999999999998\n",
      " Loss v Ones: 0.7443966865539551, Loss v Zeros: 0.6443966627120972\n",
      "n: 0.0\n",
      " Loss v Ones: 0.6931471824645996, Loss v Zeros: 0.6931471824645996\n",
      "n: 0.10000000000000009\n",
      " Loss v Ones: 0.6443966627120972, Loss v Zeros: 0.7443966865539551\n",
      "n: 0.20000000000000018\n",
      " Loss v Ones: 0.5981388688087463, Loss v Zeros: 0.7981388568878174\n",
      "n: 0.30000000000000004\n",
      " Loss v Ones: 0.5543552041053772, Loss v Zeros: 0.8543552160263062\n",
      "n: 0.40000000000000013\n",
      " Loss v Ones: 0.5130152702331543, Loss v Zeros: 0.9130152463912964\n",
      "n: 0.5\n",
      " Loss v Ones: 0.4740769863128662, Loss v Zeros: 0.9740769863128662\n",
      "n: 0.6000000000000001\n",
      " Loss v Ones: 0.437487930059433, Loss v Zeros: 1.0374879837036133\n",
      "n: 0.7000000000000002\n",
      " Loss v Ones: 0.40318602323532104, Loss v Zeros: 1.103186011314392\n",
      "n: 0.8\n",
      " Loss v Ones: 0.37110066413879395, Loss v Zeros: 1.1711006164550781\n",
      "n: 0.9000000000000001\n",
      " Loss v Ones: 0.3411538898944855, Loss v Zeros: 1.2411538362503052\n",
      "n: 1.0\n",
      " Loss v Ones: 0.3132616877555847, Loss v Zeros: 1.3132617473602295\n"
     ]
    }
   ],
   "source": [
    "loss_object = tf.losses.BinaryCrossentropy(from_logits=True)\n",
    "for i in range(21):\n",
    "    n = i*.1 - 1\n",
    "    n_a = [n for _ in range(8)]\n",
    "    n_ones_to_a = loss_object(tf.ones_like(n_a), n_a)\n",
    "    n_zeros_to_a = loss_object(tf.zeros_like(n_a), n_a)\n",
    "    print(f\"n: {n}\\n Loss v Ones: {n_ones_to_a}, Loss v Zeros: {n_zeros_to_a}\")"
   ],
   "metadata": {
    "collapsed": false,
    "pycharm": {
     "name": "#%%\n"
    }
   }
  },
  {
   "cell_type": "code",
   "execution_count": 7,
   "outputs": [
    {
     "name": "stdout",
     "output_type": "stream",
     "text": [
      "n: -1.0\n",
      " Loss v Ones: 15.424948692321777, Loss v Zeros: -0.0\n",
      "n: -0.9\n",
      " Loss v Ones: 15.424948692321777, Loss v Zeros: -0.0\n",
      "n: -0.8\n",
      " Loss v Ones: 15.424948692321777, Loss v Zeros: -0.0\n",
      "n: -0.7\n",
      " Loss v Ones: 15.424948692321777, Loss v Zeros: -0.0\n",
      "n: -0.6\n",
      " Loss v Ones: 15.424948692321777, Loss v Zeros: -0.0\n",
      "n: -0.5\n",
      " Loss v Ones: 15.424948692321777, Loss v Zeros: -0.0\n",
      "n: -0.3999999999999999\n",
      " Loss v Ones: 15.424948692321777, Loss v Zeros: -0.0\n",
      "n: -0.29999999999999993\n",
      " Loss v Ones: 15.424948692321777, Loss v Zeros: -0.0\n",
      "n: -0.19999999999999996\n",
      " Loss v Ones: 15.424948692321777, Loss v Zeros: -0.0\n",
      "n: -0.09999999999999998\n",
      " Loss v Ones: 15.424948692321777, Loss v Zeros: -0.0\n",
      "n: 0.0\n",
      " Loss v Ones: 15.424948692321777, Loss v Zeros: -0.0\n",
      "n: 0.10000000000000009\n",
      " Loss v Ones: 2.302584171295166, Loss v Zeros: 0.10536041110754013\n",
      "n: 0.20000000000000018\n",
      " Loss v Ones: 1.609437346458435, Loss v Zeros: 0.22314338386058807\n",
      "n: 0.30000000000000004\n",
      " Loss v Ones: 1.2039724588394165, Loss v Zeros: 0.35667479038238525\n",
      "n: 0.40000000000000013\n",
      " Loss v Ones: 0.9162905216217041, Loss v Zeros: 0.5108253955841064\n",
      "n: 0.5\n",
      " Loss v Ones: 0.6931469440460205, Loss v Zeros: 0.6931469440460205\n",
      "n: 0.6000000000000001\n",
      " Loss v Ones: 0.5108253955841064, Loss v Zeros: 0.9162905812263489\n",
      "n: 0.7000000000000002\n",
      " Loss v Ones: 0.35667479038238525, Loss v Zeros: 1.2039724588394165\n",
      "n: 0.8\n",
      " Loss v Ones: 0.22314338386058807, Loss v Zeros: 1.6094374656677246\n",
      "n: 0.9000000000000001\n",
      " Loss v Ones: 0.10536041110754013, Loss v Zeros: 2.302583932876587\n",
      "n: 1.0\n",
      " Loss v Ones: -0.0, Loss v Zeros: 15.33323860168457\n"
     ]
    }
   ],
   "source": [
    "loss_object = tf.losses.BinaryCrossentropy(from_logits=False)\n",
    "for i in range(21):\n",
    "    n = i*.1 - 1\n",
    "    n_a = [n for _ in range(8)]\n",
    "    n_ones_to_a = loss_object(tf.ones_like(n_a), n_a)\n",
    "    n_zeros_to_a = loss_object(tf.zeros_like(n_a), n_a)\n",
    "    print(f\"n: {n}\\n Loss v Ones: {n_ones_to_a}, Loss v Zeros: {n_zeros_to_a}\")"
   ],
   "metadata": {
    "collapsed": false,
    "pycharm": {
     "name": "#%%\n"
    }
   }
  },
  {
   "cell_type": "code",
   "execution_count": 9,
   "outputs": [],
   "source": [
    "import random"
   ],
   "metadata": {
    "collapsed": false,
    "pycharm": {
     "name": "#%%\n"
    }
   }
  },
  {
   "cell_type": "code",
   "execution_count": 12,
   "outputs": [
    {
     "data": {
      "text/plain": "[0.35, 0.37, 0.26, 0.27999999999999997, 0.21, 0.25, 0.27, 0.37]"
     },
     "execution_count": 12,
     "metadata": {},
     "output_type": "execute_result"
    }
   ],
   "source": [
    "def gen_rand_8_with_jitter(f):\n",
    "    res = []\n",
    "    for i in range(8):\n",
    "        f_with_jitt = f + random.randrange(-9, 10) / 100\n",
    "        res += f_with_jitt,\n",
    "    return res\n",
    "\n",
    "gen_rand_8_with_jitter(0.3)\n",
    "\n"
   ],
   "metadata": {
    "collapsed": false,
    "pycharm": {
     "name": "#%%\n"
    }
   }
  },
  {
   "cell_type": "code",
   "execution_count": 17,
   "outputs": [],
   "source": [
    "def print_losses(n_a, n):\n",
    "    loss_object = tf.losses.BinaryCrossentropy(from_logits=True)\n",
    "    n_ones_to_a = loss_object(tf.ones_like(n_a), n_a)\n",
    "    n_zeros_to_a = loss_object(tf.zeros_like(n_a), n_a)\n",
    "    print(f\"n: {n}\\n Loss v Ones: {n_ones_to_a}, Loss v Zeros: {n_zeros_to_a}\")"
   ],
   "metadata": {
    "collapsed": false,
    "pycharm": {
     "name": "#%%\n"
    }
   }
  },
  {
   "cell_type": "code",
   "execution_count": 18,
   "outputs": [
    {
     "name": "stdout",
     "output_type": "stream",
     "text": [
      "n: -1.0\n",
      " Loss v Ones: 1.2907459735870361, Loss v Zeros: 0.32199591398239136\n",
      "n: -0.9\n",
      " Loss v Ones: 1.2483808994293213, Loss v Zeros: 0.3383809030056\n",
      "n: -0.8\n",
      " Loss v Ones: 1.1852588653564453, Loss v Zeros: 0.36525875329971313\n",
      "n: -0.7\n",
      " Loss v Ones: 1.0967072248458862, Loss v Zeros: 0.406707227230072\n",
      "n: -0.6\n",
      " Loss v Ones: 1.0450701713562012, Loss v Zeros: 0.43382006883621216\n",
      "n: -0.5\n",
      " Loss v Ones: 0.9782832264900208, Loss v Zeros: 0.4720332622528076\n",
      "n: -0.3999999999999999\n",
      " Loss v Ones: 0.9199768304824829, Loss v Zeros: 0.5087268352508545\n",
      "n: -0.29999999999999993\n",
      " Loss v Ones: 0.8604050874710083, Loss v Zeros: 0.5504050254821777\n",
      "n: -0.19999999999999996\n",
      " Loss v Ones: 0.8083634972572327, Loss v Zeros: 0.5908635258674622\n",
      "n: -0.09999999999999998\n",
      " Loss v Ones: 0.7331053614616394, Loss v Zeros: 0.6556053161621094\n",
      "n: 0.0\n",
      " Loss v Ones: 0.6961407661437988, Loss v Zeros: 0.6911407709121704\n",
      "n: 0.10000000000000009\n",
      " Loss v Ones: 0.6571948528289795, Loss v Zeros: 0.730944812297821\n",
      "n: 0.20000000000000018\n",
      " Loss v Ones: 0.6211433410644531, Loss v Zeros: 0.7711433172225952\n",
      "n: 0.30000000000000004\n",
      " Loss v Ones: 0.5496156215667725, Loss v Zeros: 0.8621156215667725\n",
      "n: 0.40000000000000013\n",
      " Loss v Ones: 0.5189077854156494, Loss v Zeros: 0.905157744884491\n",
      "n: 0.5\n",
      " Loss v Ones: 0.4866334795951843, Loss v Zeros: 0.9541335105895996\n",
      "n: 0.6000000000000001\n",
      " Loss v Ones: 0.4341268837451935, Loss v Zeros: 1.0441268682479858\n",
      "n: 0.7000000000000002\n",
      " Loss v Ones: 0.39940348267555237, Loss v Zeros: 1.111903429031372\n",
      "n: 0.8\n",
      " Loss v Ones: 0.37502479553222656, Loss v Zeros: 1.1637747287750244\n",
      "n: 0.9000000000000001\n",
      " Loss v Ones: 0.3509100675582886, Loss v Zeros: 1.2184101343154907\n",
      "n: 1.0\n",
      " Loss v Ones: 0.3173847496509552, Loss v Zeros: 1.3023847341537476\n"
     ]
    }
   ],
   "source": [
    "for i in range(21):\n",
    "    n = i * .1 - 1\n",
    "    print_losses(gen_rand_8_with_jitter((n)), n)"
   ],
   "metadata": {
    "collapsed": false,
    "pycharm": {
     "name": "#%%\n"
    }
   }
  },
  {
   "cell_type": "markdown",
   "source": [
    "Conclusion:\n",
    "Convergence looks exactly like l1 loss.\n",
    "Also it does work with tanh activation.\n",
    "Usage of output, similar to usage of a loss function, would denote explicit usage of a loss function i.e binary cross entropy."
   ],
   "metadata": {
    "collapsed": false,
    "pycharm": {
     "name": "#%% md\n"
    }
   }
  }
 ],
 "metadata": {
  "kernelspec": {
   "display_name": "Python 3",
   "language": "python",
   "name": "python3"
  },
  "language_info": {
   "codemirror_mode": {
    "name": "ipython",
    "version": 2
   },
   "file_extension": ".py",
   "mimetype": "text/x-python",
   "name": "python",
   "nbconvert_exporter": "python",
   "pygments_lexer": "ipython2",
   "version": "2.7.6"
  }
 },
 "nbformat": 4,
 "nbformat_minor": 0
}