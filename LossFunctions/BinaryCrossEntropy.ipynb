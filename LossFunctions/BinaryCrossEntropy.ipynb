{
 "cells": [
  {
   "cell_type": "code",
   "execution_count": 35,
   "metadata": {
    "collapsed": true
   },
   "outputs": [],
   "source": [
    "import tensorflow as tf"
   ]
  },
  {
   "cell_type": "code",
   "execution_count": 35,
   "outputs": [],
   "source": [],
   "metadata": {
    "collapsed": false,
    "pycharm": {
     "name": "#%%\n"
    }
   }
  },
  {
   "cell_type": "code",
   "execution_count": 36,
   "outputs": [
    {
     "name": "stdout",
     "output_type": "stream",
     "text": [
      "n: -1.0\n",
      " Loss v Ones: 1.3132617473602295, Loss v Zeros: 0.3132616877555847\n",
      "n: -0.9\n",
      " Loss v Ones: 1.2411538362503052, Loss v Zeros: 0.3411538898944855\n",
      "n: -0.8\n",
      " Loss v Ones: 1.1711006164550781, Loss v Zeros: 0.37110066413879395\n",
      "n: -0.7\n",
      " Loss v Ones: 1.103186011314392, Loss v Zeros: 0.40318602323532104\n",
      "n: -0.6\n",
      " Loss v Ones: 1.0374879837036133, Loss v Zeros: 0.437487930059433\n",
      "n: -0.5\n",
      " Loss v Ones: 0.9740769863128662, Loss v Zeros: 0.4740769863128662\n",
      "n: -0.3999999999999999\n",
      " Loss v Ones: 0.9130152463912964, Loss v Zeros: 0.5130152702331543\n",
      "n: -0.29999999999999993\n",
      " Loss v Ones: 0.8543552160263062, Loss v Zeros: 0.5543552041053772\n",
      "n: -0.19999999999999996\n",
      " Loss v Ones: 0.7981388568878174, Loss v Zeros: 0.5981388688087463\n",
      "n: -0.09999999999999998\n",
      " Loss v Ones: 0.7443966865539551, Loss v Zeros: 0.6443966627120972\n",
      "n: 0.0\n",
      " Loss v Ones: 0.6931471824645996, Loss v Zeros: 0.6931471824645996\n",
      "n: 0.10000000000000009\n",
      " Loss v Ones: 0.6443966627120972, Loss v Zeros: 0.7443966865539551\n",
      "n: 0.20000000000000018\n",
      " Loss v Ones: 0.5981388688087463, Loss v Zeros: 0.7981388568878174\n",
      "n: 0.30000000000000004\n",
      " Loss v Ones: 0.5543552041053772, Loss v Zeros: 0.8543552160263062\n",
      "n: 0.40000000000000013\n",
      " Loss v Ones: 0.5130152702331543, Loss v Zeros: 0.9130152463912964\n",
      "n: 0.5\n",
      " Loss v Ones: 0.4740769863128662, Loss v Zeros: 0.9740769863128662\n",
      "n: 0.6000000000000001\n",
      " Loss v Ones: 0.437487930059433, Loss v Zeros: 1.0374879837036133\n",
      "n: 0.7000000000000002\n",
      " Loss v Ones: 0.40318602323532104, Loss v Zeros: 1.103186011314392\n",
      "n: 0.8\n",
      " Loss v Ones: 0.37110066413879395, Loss v Zeros: 1.1711006164550781\n",
      "n: 0.9000000000000001\n",
      " Loss v Ones: 0.3411538898944855, Loss v Zeros: 1.2411538362503052\n",
      "n: 1.0\n",
      " Loss v Ones: 0.3132616877555847, Loss v Zeros: 1.3132617473602295\n"
     ]
    }
   ],
   "source": [
    "for i in range(21):\n",
    "    loss_object = tf.losses.BinaryCrossentropy(from_logits=True)\n",
    "    n = i*.1 - 1\n",
    "    n_a = [n for _ in range(8)]\n",
    "    n_ones_to_a = loss_object(tf.ones_like(n_a), n_a)\n",
    "    n_zeros_to_a = loss_object(tf.zeros_like(n_a), n_a)\n",
    "    print(f\"n: {n}\\n Loss v Ones: {n_ones_to_a}, Loss v Zeros: {n_zeros_to_a}\")"
   ],
   "metadata": {
    "collapsed": false,
    "pycharm": {
     "name": "#%%\n"
    }
   }
  },
  {
   "cell_type": "code",
   "execution_count": 37,
   "outputs": [
    {
     "name": "stdout",
     "output_type": "stream",
     "text": [
      "n: -1.0\n",
      " Loss v Ones: 1.3132617473602295, Loss v Zeros: 0.3132616877555847\n",
      "n: -0.9\n",
      " Loss v Ones: 1.2411538362503052, Loss v Zeros: 0.3411538898944855\n",
      "n: -0.8\n",
      " Loss v Ones: 1.1711006164550781, Loss v Zeros: 0.37110066413879395\n",
      "n: -0.7\n",
      " Loss v Ones: 1.103186011314392, Loss v Zeros: 0.40318602323532104\n",
      "n: -0.6\n",
      " Loss v Ones: 1.0374879837036133, Loss v Zeros: 0.437487930059433\n",
      "n: -0.5\n",
      " Loss v Ones: 0.9740769863128662, Loss v Zeros: 0.4740769863128662\n",
      "n: -0.3999999999999999\n",
      " Loss v Ones: 0.9130152463912964, Loss v Zeros: 0.5130152702331543\n",
      "n: -0.29999999999999993\n",
      " Loss v Ones: 0.8543552160263062, Loss v Zeros: 0.5543552041053772\n",
      "n: -0.19999999999999996\n",
      " Loss v Ones: 0.7981388568878174, Loss v Zeros: 0.5981388688087463\n",
      "n: -0.09999999999999998\n",
      " Loss v Ones: 0.7443966865539551, Loss v Zeros: 0.6443966627120972\n",
      "n: 0.0\n",
      " Loss v Ones: 0.6931471824645996, Loss v Zeros: 0.6931471824645996\n",
      "n: 0.10000000000000009\n",
      " Loss v Ones: 0.6443966627120972, Loss v Zeros: 0.7443966865539551\n",
      "n: 0.20000000000000018\n",
      " Loss v Ones: 0.5981388688087463, Loss v Zeros: 0.7981388568878174\n",
      "n: 0.30000000000000004\n",
      " Loss v Ones: 0.5543552041053772, Loss v Zeros: 0.8543552160263062\n",
      "n: 0.40000000000000013\n",
      " Loss v Ones: 0.5130152702331543, Loss v Zeros: 0.9130152463912964\n",
      "n: 0.5\n",
      " Loss v Ones: 0.4740769863128662, Loss v Zeros: 0.9740769863128662\n",
      "n: 0.6000000000000001\n",
      " Loss v Ones: 0.437487930059433, Loss v Zeros: 1.0374879837036133\n",
      "n: 0.7000000000000002\n",
      " Loss v Ones: 0.40318602323532104, Loss v Zeros: 1.103186011314392\n",
      "n: 0.8\n",
      " Loss v Ones: 0.37110066413879395, Loss v Zeros: 1.1711006164550781\n",
      "n: 0.9000000000000001\n",
      " Loss v Ones: 0.3411538898944855, Loss v Zeros: 1.2411538362503052\n",
      "n: 1.0\n",
      " Loss v Ones: 0.3132616877555847, Loss v Zeros: 1.3132617473602295\n"
     ]
    }
   ],
   "source": [
    "loss_object = tf.losses.BinaryCrossentropy(from_logits=True)\n",
    "for i in range(21):\n",
    "    n = i*.1 - 1\n",
    "    n_a = [n for _ in range(8)]\n",
    "    n_ones_to_a = loss_object(tf.ones_like(n_a), n_a)\n",
    "    n_zeros_to_a = loss_object(tf.zeros_like(n_a), n_a)\n",
    "    print(f\"n: {n}\\n Loss v Ones: {n_ones_to_a}, Loss v Zeros: {n_zeros_to_a}\")"
   ],
   "metadata": {
    "collapsed": false,
    "pycharm": {
     "name": "#%%\n"
    }
   }
  },
  {
   "cell_type": "code",
   "execution_count": 38,
   "outputs": [
    {
     "name": "stdout",
     "output_type": "stream",
     "text": [
      "n: -1.0\n",
      " Loss v Ones: 15.424948692321777, Loss v Zeros: -0.0\n",
      "n: -0.9\n",
      " Loss v Ones: 15.424948692321777, Loss v Zeros: -0.0\n",
      "n: -0.8\n",
      " Loss v Ones: 15.424948692321777, Loss v Zeros: -0.0\n",
      "n: -0.7\n",
      " Loss v Ones: 15.424948692321777, Loss v Zeros: -0.0\n",
      "n: -0.6\n",
      " Loss v Ones: 15.424948692321777, Loss v Zeros: -0.0\n",
      "n: -0.5\n",
      " Loss v Ones: 15.424948692321777, Loss v Zeros: -0.0\n",
      "n: -0.3999999999999999\n",
      " Loss v Ones: 15.424948692321777, Loss v Zeros: -0.0\n",
      "n: -0.29999999999999993\n",
      " Loss v Ones: 15.424948692321777, Loss v Zeros: -0.0\n",
      "n: -0.19999999999999996\n",
      " Loss v Ones: 15.424948692321777, Loss v Zeros: -0.0\n",
      "n: -0.09999999999999998\n",
      " Loss v Ones: 15.424948692321777, Loss v Zeros: -0.0\n",
      "n: 0.0\n",
      " Loss v Ones: 15.424948692321777, Loss v Zeros: -0.0\n",
      "n: 0.10000000000000009\n",
      " Loss v Ones: 2.302584171295166, Loss v Zeros: 0.10536041110754013\n",
      "n: 0.20000000000000018\n",
      " Loss v Ones: 1.609437346458435, Loss v Zeros: 0.22314338386058807\n",
      "n: 0.30000000000000004\n",
      " Loss v Ones: 1.2039724588394165, Loss v Zeros: 0.35667479038238525\n",
      "n: 0.40000000000000013\n",
      " Loss v Ones: 0.9162905216217041, Loss v Zeros: 0.5108253955841064\n",
      "n: 0.5\n",
      " Loss v Ones: 0.6931469440460205, Loss v Zeros: 0.6931469440460205\n",
      "n: 0.6000000000000001\n",
      " Loss v Ones: 0.5108253955841064, Loss v Zeros: 0.9162905812263489\n",
      "n: 0.7000000000000002\n",
      " Loss v Ones: 0.35667479038238525, Loss v Zeros: 1.2039724588394165\n",
      "n: 0.8\n",
      " Loss v Ones: 0.22314338386058807, Loss v Zeros: 1.6094374656677246\n",
      "n: 0.9000000000000001\n",
      " Loss v Ones: 0.10536041110754013, Loss v Zeros: 2.302583932876587\n",
      "n: 1.0\n",
      " Loss v Ones: -0.0, Loss v Zeros: 15.33323860168457\n"
     ]
    }
   ],
   "source": [
    "loss_object = tf.losses.BinaryCrossentropy(from_logits=False)\n",
    "for i in range(21):\n",
    "    n = i*.1 - 1\n",
    "    n_a = [n for _ in range(8)]\n",
    "    n_ones_to_a = loss_object(tf.ones_like(n_a), n_a)\n",
    "    n_zeros_to_a = loss_object(tf.zeros_like(n_a), n_a)\n",
    "    print(f\"n: {n}\\n Loss v Ones: {n_ones_to_a}, Loss v Zeros: {n_zeros_to_a}\")"
   ],
   "metadata": {
    "collapsed": false,
    "pycharm": {
     "name": "#%%\n"
    }
   }
  },
  {
   "cell_type": "code",
   "execution_count": 39,
   "outputs": [],
   "source": [
    "import random"
   ],
   "metadata": {
    "collapsed": false,
    "pycharm": {
     "name": "#%%\n"
    }
   }
  },
  {
   "cell_type": "code",
   "execution_count": 40,
   "outputs": [
    {
     "data": {
      "text/plain": "[0.35,\n 0.27999999999999997,\n 0.29,\n 0.26,\n 0.33999999999999997,\n 0.22999999999999998,\n 0.3,\n 0.27]"
     },
     "execution_count": 40,
     "metadata": {},
     "output_type": "execute_result"
    }
   ],
   "source": [
    "def gen_rand_8_with_jitter(f):\n",
    "    res = []\n",
    "    for i in range(8):\n",
    "        f_with_jitt = f + random.randrange(-9, 10) / 100\n",
    "        res += f_with_jitt,\n",
    "    return res\n",
    "\n",
    "gen_rand_8_with_jitter(0.3)\n",
    "\n"
   ],
   "metadata": {
    "collapsed": false,
    "pycharm": {
     "name": "#%%\n"
    }
   }
  },
  {
   "cell_type": "code",
   "execution_count": 41,
   "outputs": [],
   "source": [
    "def print_losses(n_a, n, printLine):\n",
    "    n_ones_to_a = loss_object(tf.ones_like(n_a), n_a)\n",
    "    n_zeros_to_a = loss_object(tf.zeros_like(n_a), n_a)\n",
    "    if printLine:\n",
    "        print(f\"n: {n}\\n Loss v Ones: {n_ones_to_a}, Loss v Zeros: {n_zeros_to_a}\")"
   ],
   "metadata": {
    "collapsed": false,
    "pycharm": {
     "name": "#%%\n"
    }
   }
  },
  {
   "cell_type": "code",
   "execution_count": 43,
   "outputs": [
    {
     "name": "stdout",
     "output_type": "stream",
     "text": [
      "n: -1.0\n",
      " Loss v Ones: 1.2971396446228027, Loss v Zeros: 0.3196397125720978\n",
      "n: -0.9\n",
      " Loss v Ones: 1.2521092891693115, Loss v Zeros: 0.337109237909317\n",
      "n: -0.8\n",
      " Loss v Ones: 1.178289532661438, Loss v Zeros: 0.3682895302772522\n",
      "n: -0.7\n",
      " Loss v Ones: 1.1127034425735474, Loss v Zeros: 0.3989534378051758\n",
      "n: -0.6\n",
      " Loss v Ones: 1.0367965698242188, Loss v Zeros: 0.43804651498794556\n",
      "n: -0.5\n",
      " Loss v Ones: 0.9618515372276306, Loss v Zeros: 0.4818515479564667\n",
      "n: -0.3999999999999999\n",
      " Loss v Ones: 0.9169711470603943, Loss v Zeros: 0.5107212066650391\n",
      "n: -0.29999999999999993\n",
      " Loss v Ones: 0.8505300283432007, Loss v Zeros: 0.5580300688743591\n",
      "n: -0.19999999999999996\n",
      " Loss v Ones: 0.8025963306427002, Loss v Zeros: 0.5950963497161865\n",
      "n: -0.09999999999999998\n",
      " Loss v Ones: 0.7512298822402954, Loss v Zeros: 0.6387298703193665\n",
      "n: 0.0\n",
      " Loss v Ones: 0.7097657918930054, Loss v Zeros: 0.6772657632827759\n",
      "n: 0.10000000000000009\n",
      " Loss v Ones: 0.6452629566192627, Loss v Zeros: 0.7440129518508911\n",
      "n: 0.20000000000000018\n",
      " Loss v Ones: 0.603135883808136, Loss v Zeros: 0.7931358814239502\n",
      "n: 0.30000000000000004\n",
      " Loss v Ones: 0.5702300667762756, Loss v Zeros: 0.8339800834655762\n",
      "n: 0.40000000000000013\n",
      " Loss v Ones: 0.5274412631988525, Loss v Zeros: 0.8924412727355957\n",
      "n: 0.5\n",
      " Loss v Ones: 0.4929618239402771, Loss v Zeros: 0.9442117810249329\n",
      "n: 0.6000000000000001\n",
      " Loss v Ones: 0.4425972104072571, Loss v Zeros: 1.0288472175598145\n",
      "n: 0.7000000000000002\n",
      " Loss v Ones: 0.40315699577331543, Loss v Zeros: 1.1044069528579712\n",
      "n: 0.8\n",
      " Loss v Ones: 0.37685340642929077, Loss v Zeros: 1.159353494644165\n",
      "n: 0.9000000000000001\n",
      " Loss v Ones: 0.34499800205230713, Loss v Zeros: 1.232498049736023\n",
      "n: 1.0\n",
      " Loss v Ones: 0.3098316490650177, Loss v Zeros: 1.3235816955566406\n"
     ]
    }
   ],
   "source": [
    "for i in range(21):\n",
    "    n = i * .1 - 1\n",
    "    loss_object = tf.losses.BinaryCrossentropy(from_logits=True)\n",
    "    print_losses(gen_rand_8_with_jitter((n)), n, True)"
   ],
   "metadata": {
    "collapsed": false,
    "pycharm": {
     "name": "#%%\n"
    }
   }
  },
  {
   "cell_type": "code",
   "execution_count": 44,
   "outputs": [
    {
     "name": "stdout",
     "output_type": "stream",
     "text": [
      "n: -0.5\n",
      " Loss v Ones: 0.9688643217086792, Loss v Zeros: 0.4776143431663513\n",
      "n: -0.4\n",
      " Loss v Ones: 0.9005441665649414, Loss v Zeros: 0.5217941999435425\n",
      "n: -0.3\n",
      " Loss v Ones: 0.8473554253578186, Loss v Zeros: 0.5598554015159607\n",
      "n: -0.19999999999999996\n",
      " Loss v Ones: 0.793747067451477, Loss v Zeros: 0.6024970412254333\n",
      "n: -0.09999999999999998\n",
      " Loss v Ones: 0.7440412044525146, Loss v Zeros: 0.6452912092208862\n",
      "n: 0.0\n",
      " Loss v Ones: 0.6991361379623413, Loss v Zeros: 0.687886118888855\n",
      "n: 0.10000000000000009\n",
      " Loss v Ones: 0.6477254629135132, Loss v Zeros: 0.741475522518158\n",
      "n: 0.20000000000000007\n",
      " Loss v Ones: 0.6035016775131226, Loss v Zeros: 0.792251706123352\n",
      "n: 0.30000000000000004\n",
      " Loss v Ones: 0.5516401529312134, Loss v Zeros: 0.859140157699585\n",
      "n: 0.4\n",
      " Loss v Ones: 0.5204537510871887, Loss v Zeros: 0.9029537439346313\n",
      "n: 0.5\n",
      " Loss v Ones: 0.4748472571372986, Loss v Zeros: 0.9735972881317139\n",
      "n: -0.5\n",
      " Loss v Ones: 0.9828925132751465, Loss v Zeros: 0.4691425561904907\n",
      "n: -0.4\n",
      " Loss v Ones: 0.9178386926651001, Loss v Zeros: 0.5103386640548706\n",
      "n: -0.3\n",
      " Loss v Ones: 0.8324741125106812, Loss v Zeros: 0.5712241530418396\n",
      "n: -0.19999999999999996\n",
      " Loss v Ones: 0.7848360538482666, Loss v Zeros: 0.6098360419273376\n",
      "n: -0.09999999999999998\n",
      " Loss v Ones: 0.7441189289093018, Loss v Zeros: 0.6453689336776733\n",
      "n: 0.0\n",
      " Loss v Ones: 0.6960220336914062, Loss v Zeros: 0.6910220384597778\n",
      "n: 0.10000000000000009\n",
      " Loss v Ones: 0.648788571357727, Loss v Zeros: 0.7400385141372681\n",
      "n: 0.20000000000000007\n",
      " Loss v Ones: 0.5888306498527527, Loss v Zeros: 0.8100805878639221\n",
      "n: 0.30000000000000004\n",
      " Loss v Ones: 0.5462192296981812, Loss v Zeros: 0.8662192821502686\n",
      "n: 0.4\n",
      " Loss v Ones: 0.5135496854782104, Loss v Zeros: 0.9135496616363525\n",
      "n: 0.5\n",
      " Loss v Ones: 0.4669422209262848, Loss v Zeros: 0.9869421720504761\n"
     ]
    }
   ],
   "source": [
    "loss_object = tf.losses.BinaryCrossentropy(from_logits=True)\n",
    "for _ in range(50):\n",
    "    for i in range(11):\n",
    "        printLine=False\n",
    "        if _ == 49 or _ == 0:\n",
    "            printLine=True\n",
    "        n = i * .1 - .5\n",
    "        print_losses(gen_rand_8_with_jitter((n)), n, printLine)\n"
   ],
   "metadata": {
    "collapsed": false,
    "pycharm": {
     "name": "#%%\n"
    }
   }
  },
  {
   "cell_type": "markdown",
   "source": [
    "Conclusion:\n",
    "Binary cross entropy loss never reaches zero in this case,\n",
    "\n",
    "it reaches zero if you average the values,\n",
    "\n",
    "It does work with tanh activation."
   ],
   "metadata": {
    "collapsed": false,
    "pycharm": {
     "name": "#%% md\n"
    }
   }
  }
 ],
 "metadata": {
  "kernelspec": {
   "display_name": "Python 3",
   "language": "python",
   "name": "python3"
  },
  "language_info": {
   "codemirror_mode": {
    "name": "ipython",
    "version": 2
   },
   "file_extension": ".py",
   "mimetype": "text/x-python",
   "name": "python",
   "nbconvert_exporter": "python",
   "pygments_lexer": "ipython2",
   "version": "2.7.6"
  }
 },
 "nbformat": 4,
 "nbformat_minor": 0
}