{
 "cells": [
  {
   "cell_type": "code",
   "execution_count": 1,
   "metadata": {
    "collapsed": true
   },
   "outputs": [],
   "source": [
    "import tensorflow as tf"
   ]
  },
  {
   "cell_type": "code",
   "execution_count": 48,
   "outputs": [],
   "source": [
    "average = tf.keras.metrics.Mean()\n",
    "\n",
    "@tf.function\n",
    "def get_average(data):\n",
    "    average.reset_states()\n",
    "    for i in tf.range(tf.shape(data)[0]):\n",
    "        average.update_state(data[i])\n",
    "    return average.result()\n",
    "\n",
    "@tf.function\n",
    "def losses(data):\n",
    "    average.reset_states()\n",
    "    for i in tf.range(tf.shape(data)[0]):\n",
    "        average.update_state(data[i])\n",
    "    return 1 - average.result()\n",
    "\n",
    "@tf.function\n",
    "def losses_between(data1, data2):\n",
    "    average.reset_states()\n",
    "    for i in tf.range(tf.shape(data1)[0]):\n",
    "        average.update_state(data2[i] - data1[i])\n",
    "    return average.result()\n",
    "\n",
    "@tf.function\n",
    "def compare(data1, data2):\n",
    "    for i in tf.range(tf.shape(data1)[0]):\n",
    "        if data1[i] < data2[i]:\n",
    "            tf.print(tf.strings.format(\"{}, {}\", (data1[i], data2[i])))\n",
    "            #tf.print(data1[i], data2[i])\n",
    "\n",
    "\n"
   ],
   "metadata": {
    "collapsed": false,
    "pycharm": {
     "name": "#%%\n"
    }
   }
  },
  {
   "cell_type": "code",
   "execution_count": 49,
   "outputs": [
    {
     "name": "stdout",
     "output_type": "stream",
     "text": [
      "tf.Tensor(0.56, shape=(), dtype=float32)\n",
      "tf.Tensor(0.6625, shape=(), dtype=float32)\n",
      "tf.Tensor(0.44, shape=(), dtype=float32)\n",
      "tf.Tensor(0.33749998, shape=(), dtype=float32)\n",
      "tf.Tensor(0.10249998, shape=(), dtype=float32)\n",
      "0.3, 0.9\r\n",
      "0.4, 0.5\r\n",
      "0.94, 0.95\r\n",
      "None\n"
     ]
    }
   ],
   "source": [
    "data_1 = tf.convert_to_tensor([0.3, 0.4, 0.6, 0.94])\n",
    "data_2 = tf.convert_to_tensor([0.9, 0.5, 0.3, 0.95])\n",
    "\n",
    "print(get_average(data_1))\n",
    "print(get_average(data_2))\n",
    "print(losses(data_1))\n",
    "print(losses(data_2))\n",
    "print(losses_between(data_1, data_2))\n",
    "print(compare(data_1, data_2))"
   ],
   "metadata": {
    "collapsed": false,
    "pycharm": {
     "name": "#%%\n"
    }
   }
  },
  {
   "cell_type": "code",
   "execution_count": null,
   "outputs": [],
   "source": [],
   "metadata": {
    "collapsed": false,
    "pycharm": {
     "name": "#%%\n"
    }
   }
  }
 ],
 "metadata": {
  "kernelspec": {
   "display_name": "Python 3",
   "language": "python",
   "name": "python3"
  },
  "language_info": {
   "codemirror_mode": {
    "name": "ipython",
    "version": 2
   },
   "file_extension": ".py",
   "mimetype": "text/x-python",
   "name": "python",
   "nbconvert_exporter": "python",
   "pygments_lexer": "ipython2",
   "version": "2.7.6"
  }
 },
 "nbformat": 4,
 "nbformat_minor": 0
}