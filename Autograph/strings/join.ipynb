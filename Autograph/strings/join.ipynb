{
 "cells": [
  {
   "cell_type": "code",
   "execution_count": 120,
   "outputs": [],
   "source": [
    "import numpy as np\n",
    "import tensorflow as tf"
   ],
   "metadata": {
    "collapsed": false,
    "pycharm": {
     "name": "#%%\n"
    }
   }
  },
  {
   "cell_type": "code",
   "execution_count": 117,
   "metadata": {
    "collapsed": true
   },
   "outputs": [],
   "source": [
    "@tf.function\n",
    "def join_strings(inp1, inp2, slit_pos):\n",
    "    #goal: split at \"need\" and concatenate beyond \"need\" from arg2 to arg1\n",
    "    inp1, inp2, slit_pos = \"I need Titan RTXes\", \"I need Titan Ampere\", 2\n",
    "    inp1_split = tf.strings.split(inp1, \" \")[:slit_pos]\n",
    "    inp2_split = tf.strings.split(inp2, \" \")[slit_pos:]\n",
    "    return tf.strings.reduce_join([inp1_split, inp2_split], separator=' ')\n",
    "    #inp_concat = tf.concat([inp1_split, inp2_split], axis=0)\n",
    "    #tf.print(inp_concat)\n",
    "    #tf.print(tf.strings.reduce_join(inp_concat))\n",
    "\n",
    "\n",
    "\n",
    "\n"
   ]
  },
  {
   "cell_type": "code",
   "execution_count": 121,
   "outputs": [
    {
     "name": "stdout",
     "output_type": "stream",
     "text": [
      "I need Titan Ampere\n"
     ]
    }
   ],
   "source": [
    "a=None\n",
    "print(join_strings(a,a,a).numpy().decode('ascii'))\n",
    "\n"
   ],
   "metadata": {
    "collapsed": false,
    "pycharm": {
     "name": "#%%\n"
    }
   }
  },
  {
   "cell_type": "code",
   "execution_count": null,
   "outputs": [],
   "source": [],
   "metadata": {
    "collapsed": false,
    "pycharm": {
     "name": "#%%\n"
    }
   }
  }
 ],
 "metadata": {
  "kernelspec": {
   "display_name": "Python 3",
   "language": "python",
   "name": "python3"
  },
  "language_info": {
   "codemirror_mode": {
    "name": "ipython",
    "version": 2
   },
   "file_extension": ".py",
   "mimetype": "text/x-python",
   "name": "python",
   "nbconvert_exporter": "python",
   "pygments_lexer": "ipython2",
   "version": "2.7.6"
  }
 },
 "nbformat": 4,
 "nbformat_minor": 0
}